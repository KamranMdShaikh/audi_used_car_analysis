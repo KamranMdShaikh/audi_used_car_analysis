{
 "cells": [
  {
   "cell_type": "markdown",
   "metadata": {},
   "source": [
    "1. Choose one dataset (audi, audi, hyundai, toyota, skoda, vw) from this link: \n",
    "https://github.com/SKawsar/Data_Visualization_with_Python\n",
    "\n",
    "2. Create a figure of barplot that will contain multiple subplots. Each subplot will represent a column.\n",
    "\n",
    "3. Make sure you have a proper title, xlabel, ylabel, xticks, yticks, and figure size which will represent an example of good data visualization.\n",
    "\n",
    "4. Code must be submitted through GitHub. Attach a direct link to your repository. Example repository name: bmw_used_car_analysis, toyota_used_car_analysis etc. The name of the repository shouldn't be hw2, HW2, emk_HW2 or similar. Example Notebook name: bmw_used_car_EDA.ipynb, audi_used_car_EDA.ipynb etc. EDA means Exploratory Data Analysis. A proper naming is important for a good GitHub profile. Hiring managers/Recruiters look for an organized GitHub profile.\n",
    "\n",
    "5. Please run all cells before you upload/push your code on GitHub. Check YouTube if you don't know how to share code through Github.\n",
    "\n",
    "6. Use the Markdown cell for proper commenting and make sure the code easily understandable. Use the .head() or .tail() method when necessary rather than displaying all the rows in the dataframe.\n",
    "\n",
    "7. Make sure your code is reusable and reproducible."
   ]
  },
  {
   "cell_type": "markdown",
   "metadata": {},
   "source": [
    "# Data Visualization: Bar plot\n"
   ]
  },
  {
   "cell_type": "markdown",
   "metadata": {},
   "source": [
    "#### Import required libraries and packages"
   ]
  },
  {
   "cell_type": "code",
   "execution_count": 1,
   "metadata": {},
   "outputs": [],
   "source": [
    "import numpy as np\n",
    "import pandas as pd\n",
    "import matplotlib.pyplot as plt\n",
    "import seaborn as sns"
   ]
  },
  {
   "cell_type": "code",
   "execution_count": 2,
   "metadata": {},
   "outputs": [
    {
     "data": {
      "text/html": [
       "<div>\n",
       "<style scoped>\n",
       "    .dataframe tbody tr th:only-of-type {\n",
       "        vertical-align: middle;\n",
       "    }\n",
       "\n",
       "    .dataframe tbody tr th {\n",
       "        vertical-align: top;\n",
       "    }\n",
       "\n",
       "    .dataframe thead th {\n",
       "        text-align: right;\n",
       "    }\n",
       "</style>\n",
       "<table border=\"1\" class=\"dataframe\">\n",
       "  <thead>\n",
       "    <tr style=\"text-align: right;\">\n",
       "      <th></th>\n",
       "      <th>model</th>\n",
       "      <th>year</th>\n",
       "      <th>price</th>\n",
       "      <th>transmission</th>\n",
       "      <th>mileage</th>\n",
       "      <th>fuelType</th>\n",
       "      <th>mpg</th>\n",
       "      <th>engineSize</th>\n",
       "    </tr>\n",
       "  </thead>\n",
       "  <tbody>\n",
       "    <tr>\n",
       "      <th>0</th>\n",
       "      <td>A1</td>\n",
       "      <td>2017</td>\n",
       "      <td>12500</td>\n",
       "      <td>Manual</td>\n",
       "      <td>15735</td>\n",
       "      <td>Petrol</td>\n",
       "      <td>55.4</td>\n",
       "      <td>1.4</td>\n",
       "    </tr>\n",
       "    <tr>\n",
       "      <th>1</th>\n",
       "      <td>A6</td>\n",
       "      <td>2016</td>\n",
       "      <td>16500</td>\n",
       "      <td>Automatic</td>\n",
       "      <td>36203</td>\n",
       "      <td>Diesel</td>\n",
       "      <td>64.2</td>\n",
       "      <td>2.0</td>\n",
       "    </tr>\n",
       "    <tr>\n",
       "      <th>2</th>\n",
       "      <td>A1</td>\n",
       "      <td>2016</td>\n",
       "      <td>11000</td>\n",
       "      <td>Manual</td>\n",
       "      <td>29946</td>\n",
       "      <td>Petrol</td>\n",
       "      <td>55.4</td>\n",
       "      <td>1.4</td>\n",
       "    </tr>\n",
       "    <tr>\n",
       "      <th>3</th>\n",
       "      <td>A4</td>\n",
       "      <td>2017</td>\n",
       "      <td>16800</td>\n",
       "      <td>Automatic</td>\n",
       "      <td>25952</td>\n",
       "      <td>Diesel</td>\n",
       "      <td>67.3</td>\n",
       "      <td>2.0</td>\n",
       "    </tr>\n",
       "    <tr>\n",
       "      <th>4</th>\n",
       "      <td>A3</td>\n",
       "      <td>2019</td>\n",
       "      <td>17300</td>\n",
       "      <td>Manual</td>\n",
       "      <td>1998</td>\n",
       "      <td>Petrol</td>\n",
       "      <td>49.6</td>\n",
       "      <td>1.0</td>\n",
       "    </tr>\n",
       "  </tbody>\n",
       "</table>\n",
       "</div>"
      ],
      "text/plain": [
       "  model  year  price transmission  mileage fuelType   mpg  engineSize\n",
       "0    A1  2017  12500       Manual    15735   Petrol  55.4         1.4\n",
       "1    A6  2016  16500    Automatic    36203   Diesel  64.2         2.0\n",
       "2    A1  2016  11000       Manual    29946   Petrol  55.4         1.4\n",
       "3    A4  2017  16800    Automatic    25952   Diesel  67.3         2.0\n",
       "4    A3  2019  17300       Manual     1998   Petrol  49.6         1.0"
      ]
     },
     "execution_count": 2,
     "metadata": {},
     "output_type": "execute_result"
    }
   ],
   "source": [
    "df = pd.read_csv(\"audi.csv\")\n",
    "df.head()"
   ]
  },
  {
   "cell_type": "markdown",
   "metadata": {},
   "source": [
    "### About data Set:\n",
    "\n",
    "1. This is a Audi carcompany dataset \n",
    "2. This data set have total 17964 Row and 8 Columns\n",
    "3. There are total 21 years of used car data in this data set\n",
    "4. There are 4 numarical colums present in dataset\n",
    "5. Among them there are 3 column consists catagorical data "
   ]
  },
  {
   "cell_type": "markdown",
   "metadata": {},
   "source": [
    "#### Representation of barplots side by side"
   ]
  },
  {
   "cell_type": "code",
   "execution_count": 3,
   "metadata": {},
   "outputs": [
    {
     "data": {
      "image/png": "[encoded data removed]",
      "text/plain": [
       "<Figure size 1080x360 with 3 Axes>"
      ]
     },
     "metadata": {
      "needs_background": "light"
     },
     "output_type": "display_data"
    },
    {
     "data": {
      "text/plain": [
       "<Figure size 432x288 with 0 Axes>"
      ]
     },
     "metadata": {},
     "output_type": "display_data"
    }
   ],
   "source": [
    "sns.set_context('paper')\n",
    "\n",
    "plt.figure(figsize=(15,5))\n",
    "\n",
    "plt.subplot(1,3,1)\n",
    "model_count = df['model'].value_counts()\n",
    "model_count = pd.DataFrame(model_count)\n",
    "model_count = model_count.reset_index()\n",
    "model_count = model_count.rename(columns={'index':'model', 'model':'No_of_cars'})\n",
    "model_count['% of cars'] = np.round(((model_count['No_of_cars']/model_count['No_of_cars'].sum())*100), 2)\n",
    "sns.barplot(x='model', y='% of cars', data=model_count, color='blue', alpha=0.75)\n",
    "plt.title(\"Number of cars present for each model\")\n",
    "plt.xlabel(\"Audi car models\")\n",
    "plt.ylabel(\"Percent of cars (%)\")\n",
    "plt.xticks(rotation=90)\n",
    "plt.yticks(np.arange(0,21,2).tolist())\n",
    "\n",
    "\n",
    "plt.subplot(1,3,2)\n",
    "transmission_count = df['transmission'].value_counts()\n",
    "transmission_count = pd.DataFrame(transmission_count)\n",
    "transmission_count = transmission_count.reset_index()\n",
    "transmission_count = transmission_count.rename(columns={'index':'transmission', 'transmission':'No_of_cars'})\n",
    "transmission_count['% of cars'] = np.round(((transmission_count['No_of_cars']/transmission_count['No_of_cars'].sum())*100), 2)\n",
    "sns.barplot(x='transmission', y='% of cars', data=transmission_count, color='orange')\n",
    "plt.title(\"Number of cars present for each transmission type\")\n",
    "plt.xlabel(\"Type of transmission\")\n",
    "plt.ylabel(\"Percent of cars (%)\")\n",
    "plt.yticks(np.arange(0,51,2).tolist())\n",
    "\n",
    "\n",
    "plt.subplot(1,3,3)\n",
    "fuelType_count = df['fuelType'].value_counts()\n",
    "fuelType_count = pd.DataFrame(fuelType_count)\n",
    "fuelType_count = fuelType_count.reset_index()\n",
    "fuelType_count = fuelType_count.rename(columns={'index':'fuel_type', 'fuelType':'No_of_cars'})\n",
    "fuelType_count['% of cars'] = np.round(((fuelType_count['No_of_cars']/fuelType_count['No_of_cars'].sum())*100), 2)\n",
    "sns.barplot(x='fuel_type', y='% of cars', data=fuelType_count, color='green', alpha=0.75)\n",
    "plt.title(\"Number of cars present for each fuelType\")\n",
    "plt.xlabel(\"Type of fuel\")\n",
    "plt.ylabel(\"Percent of cars (%)\")\n",
    "plt.yticks(np.arange(0,60,2).tolist())\n",
    "\n",
    "\n",
    "plt.suptitle(\"Categorical variables in the Audi used cars dataset\")\n",
    "plt.show()\n",
    "plt.tight_layout()"
   ]
  },
  {
   "cell_type": "markdown",
   "metadata": {},
   "source": [
    "### About Bar Plots\n",
    "1.  From \"Audi car model\" bar graph shows that \n",
    "\n",
    "    a) most used car in the data set in Audi A3 model\n",
    "    \n",
    "    b) 18% among Audi car users are using A3 model\n",
    "    \n",
    "    c) The time data set was taken, till then most less used car was A2 mode\n",
    "    \n",
    "    \n",
    "    \n",
    "2.  From \"Type of transmission\" bar graph shows that\n",
    "\n",
    "    a) Audi producses 3 types of trans mission type cars. They are Manual. Semi-Auto, Automatic\n",
    "    \n",
    "    b) 41% of Audi users uses Manual transmission type car.\n",
    "    \n",
    "    c) The most less used transmission type car is Automatic type.\n",
    "\n",
    "\n",
    "\n",
    "3.  From \"Type of fuel\" bar graph shows that\n",
    "\n",
    "    a) Audi producses 3 types of Fuel type cars. They are Diesel based, Petrol based and Hybrid.\n",
    "    \n",
    "    b) 52% among Audi cars users are Diesel based\n",
    "    \n",
    "    c) he most less used Audi car is Hybrid type"
   ]
  },
  {
   "cell_type": "code",
   "execution_count": null,
   "metadata": {},
   "outputs": [],
   "source": []
  }
 ],
 "metadata": {
  "kernelspec": {
   "display_name": "Python 3",
   "language": "python",
   "name": "python3"
  },
  "language_info": {
   "codemirror_mode": {
    "name": "ipython",
    "version": 3
   },
   "file_extension": ".py",
   "mimetype": "text/x-python",
   "name": "python",
   "nbconvert_exporter": "python",
   "pygments_lexer": "ipython3",
   "version": "3.7.6"
  }
 },
 "nbformat": 4,
 "nbformat_minor": 4
}
